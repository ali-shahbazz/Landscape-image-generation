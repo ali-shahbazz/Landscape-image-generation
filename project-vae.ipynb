{
 "cells": [
  {
   "cell_type": "code",
   "execution_count": 1,
   "metadata": {
    "execution": {
     "iopub.execute_input": "2024-12-07T13:52:11.708706Z",
     "iopub.status.busy": "2024-12-07T13:52:11.708381Z",
     "iopub.status.idle": "2024-12-07T14:35:22.493233Z",
     "shell.execute_reply": "2024-12-07T14:35:22.492256Z",
     "shell.execute_reply.started": "2024-12-07T13:52:11.708674Z"
    },
    "trusted": true
   },
   "outputs": [
    {
     "name": "stdout",
     "output_type": "stream",
     "text": [
      "Using device: cuda\n",
      "Number of GPUs available: 2\n",
      "Total samples: 14319\n",
      "Sample Image Path: /kaggle/input/landscape-recognition-image-dataset-12k-images/Landscape Classification/Landscape Classification/Training Data/Coast/Coast-Train (1868).jpeg\n",
      "Sample Caption: palm trees and the skyline of miami at sunset\n"
     ]
    },
    {
     "data": {
      "application/vnd.jupyter.widget-view+json": {
       "model_id": "9d26b44bbfde490b957dd43632206d21",
       "version_major": 2,
       "version_minor": 0
      },
      "text/plain": [
       "tokenizer_config.json:   0%|          | 0.00/48.0 [00:00<?, ?B/s]"
      ]
     },
     "metadata": {},
     "output_type": "display_data"
    },
    {
     "data": {
      "application/vnd.jupyter.widget-view+json": {
       "model_id": "dab77eeadbc9491da52d4466cd1ee244",
       "version_major": 2,
       "version_minor": 0
      },
      "text/plain": [
       "vocab.txt:   0%|          | 0.00/232k [00:00<?, ?B/s]"
      ]
     },
     "metadata": {},
     "output_type": "display_data"
    },
    {
     "data": {
      "application/vnd.jupyter.widget-view+json": {
       "model_id": "a53e84dbbf9d4ff38b3d37a15198dce1",
       "version_major": 2,
       "version_minor": 0
      },
      "text/plain": [
       "tokenizer.json:   0%|          | 0.00/466k [00:00<?, ?B/s]"
      ]
     },
     "metadata": {},
     "output_type": "display_data"
    },
    {
     "data": {
      "application/vnd.jupyter.widget-view+json": {
       "model_id": "04309384bc764c5fa7e007d4f160f951",
       "version_major": 2,
       "version_minor": 0
      },
      "text/plain": [
       "config.json:   0%|          | 0.00/570 [00:00<?, ?B/s]"
      ]
     },
     "metadata": {},
     "output_type": "display_data"
    },
    {
     "data": {
      "application/vnd.jupyter.widget-view+json": {
       "model_id": "8c35da5fa2dc42db97ec0fc41f946ae8",
       "version_major": 2,
       "version_minor": 0
      },
      "text/plain": [
       "model.safetensors:   0%|          | 0.00/440M [00:00<?, ?B/s]"
      ]
     },
     "metadata": {},
     "output_type": "display_data"
    },
    {
     "name": "stdout",
     "output_type": "stream",
     "text": [
      "Using 2 GPUs for Data Parallelism.\n"
     ]
    },
    {
     "name": "stderr",
     "output_type": "stream",
     "text": [
      "Epoch 1/50:   0%|          | 0/112 [00:00<?, ?it/s]/opt/conda/lib/python3.10/site-packages/torch/nn/parallel/parallel_apply.py:79: FutureWarning: `torch.cuda.amp.autocast(args...)` is deprecated. Please use `torch.amp.autocast('cuda', args...)` instead.\n",
      "  with torch.cuda.device(device), torch.cuda.stream(stream), autocast(enabled=autocast_enabled):\n",
      "Epoch 1/50: 100%|██████████| 112/112 [00:52<00:00,  2.12it/s]\n"
     ]
    },
    {
     "name": "stdout",
     "output_type": "stream",
     "text": [
      "Epoch 1: Average Loss: 2647.0400\n"
     ]
    },
    {
     "name": "stderr",
     "output_type": "stream",
     "text": [
      "Epoch 2/50: 100%|██████████| 112/112 [00:53<00:00,  2.10it/s]\n"
     ]
    },
    {
     "name": "stdout",
     "output_type": "stream",
     "text": [
      "Epoch 2: Average Loss: 925.6380\n"
     ]
    },
    {
     "name": "stderr",
     "output_type": "stream",
     "text": [
      "Epoch 3/50: 100%|██████████| 112/112 [00:52<00:00,  2.14it/s]\n"
     ]
    },
    {
     "name": "stdout",
     "output_type": "stream",
     "text": [
      "Epoch 3: Average Loss: 785.2359\n"
     ]
    },
    {
     "name": "stderr",
     "output_type": "stream",
     "text": [
      "Epoch 4/50: 100%|██████████| 112/112 [00:52<00:00,  2.13it/s]\n"
     ]
    },
    {
     "name": "stdout",
     "output_type": "stream",
     "text": [
      "Epoch 4: Average Loss: 706.3638\n"
     ]
    },
    {
     "name": "stderr",
     "output_type": "stream",
     "text": [
      "Epoch 5/50: 100%|██████████| 112/112 [00:52<00:00,  2.15it/s]\n"
     ]
    },
    {
     "name": "stdout",
     "output_type": "stream",
     "text": [
      "Epoch 5: Average Loss: 652.0406\n"
     ]
    },
    {
     "name": "stderr",
     "output_type": "stream",
     "text": [
      "Epoch 6/50: 100%|██████████| 112/112 [00:52<00:00,  2.15it/s]\n"
     ]
    },
    {
     "name": "stdout",
     "output_type": "stream",
     "text": [
      "Epoch 6: Average Loss: 621.6354\n"
     ]
    },
    {
     "name": "stderr",
     "output_type": "stream",
     "text": [
      "Epoch 7/50: 100%|██████████| 112/112 [00:52<00:00,  2.15it/s]\n"
     ]
    },
    {
     "name": "stdout",
     "output_type": "stream",
     "text": [
      "Epoch 7: Average Loss: 599.0586\n"
     ]
    },
    {
     "name": "stderr",
     "output_type": "stream",
     "text": [
      "Epoch 8/50: 100%|██████████| 112/112 [00:52<00:00,  2.15it/s]\n"
     ]
    },
    {
     "name": "stdout",
     "output_type": "stream",
     "text": [
      "Epoch 8: Average Loss: 580.4817\n"
     ]
    },
    {
     "name": "stderr",
     "output_type": "stream",
     "text": [
      "Epoch 9/50: 100%|██████████| 112/112 [00:51<00:00,  2.15it/s]\n"
     ]
    },
    {
     "name": "stdout",
     "output_type": "stream",
     "text": [
      "Epoch 9: Average Loss: 566.0174\n"
     ]
    },
    {
     "name": "stderr",
     "output_type": "stream",
     "text": [
      "Epoch 10/50: 100%|██████████| 112/112 [00:51<00:00,  2.16it/s]\n"
     ]
    },
    {
     "name": "stdout",
     "output_type": "stream",
     "text": [
      "Epoch 10: Average Loss: 554.9611\n",
      "Checkpoint saved at epoch 10.\n"
     ]
    },
    {
     "name": "stderr",
     "output_type": "stream",
     "text": [
      "Epoch 11/50: 100%|██████████| 112/112 [00:51<00:00,  2.16it/s]\n"
     ]
    },
    {
     "name": "stdout",
     "output_type": "stream",
     "text": [
      "Epoch 11: Average Loss: 546.4039\n"
     ]
    },
    {
     "name": "stderr",
     "output_type": "stream",
     "text": [
      "Epoch 12/50: 100%|██████████| 112/112 [00:51<00:00,  2.17it/s]\n"
     ]
    },
    {
     "name": "stdout",
     "output_type": "stream",
     "text": [
      "Epoch 12: Average Loss: 538.3906\n"
     ]
    },
    {
     "name": "stderr",
     "output_type": "stream",
     "text": [
      "Epoch 13/50: 100%|██████████| 112/112 [00:51<00:00,  2.17it/s]\n"
     ]
    },
    {
     "name": "stdout",
     "output_type": "stream",
     "text": [
      "Epoch 13: Average Loss: 537.7250\n"
     ]
    },
    {
     "name": "stderr",
     "output_type": "stream",
     "text": [
      "Epoch 14/50: 100%|██████████| 112/112 [00:51<00:00,  2.19it/s]\n"
     ]
    },
    {
     "name": "stdout",
     "output_type": "stream",
     "text": [
      "Epoch 14: Average Loss: 529.4566\n"
     ]
    },
    {
     "name": "stderr",
     "output_type": "stream",
     "text": [
      "Epoch 15/50: 100%|██████████| 112/112 [00:51<00:00,  2.19it/s]\n"
     ]
    },
    {
     "name": "stdout",
     "output_type": "stream",
     "text": [
      "Epoch 15: Average Loss: 523.7325\n"
     ]
    },
    {
     "name": "stderr",
     "output_type": "stream",
     "text": [
      "Epoch 16/50: 100%|██████████| 112/112 [00:51<00:00,  2.18it/s]\n"
     ]
    },
    {
     "name": "stdout",
     "output_type": "stream",
     "text": [
      "Epoch 16: Average Loss: 521.2057\n"
     ]
    },
    {
     "name": "stderr",
     "output_type": "stream",
     "text": [
      "Epoch 17/50: 100%|██████████| 112/112 [00:50<00:00,  2.20it/s]\n"
     ]
    },
    {
     "name": "stdout",
     "output_type": "stream",
     "text": [
      "Epoch 17: Average Loss: 515.2832\n"
     ]
    },
    {
     "name": "stderr",
     "output_type": "stream",
     "text": [
      "Epoch 18/50: 100%|██████████| 112/112 [00:51<00:00,  2.19it/s]\n"
     ]
    },
    {
     "name": "stdout",
     "output_type": "stream",
     "text": [
      "Epoch 18: Average Loss: 514.1112\n"
     ]
    },
    {
     "name": "stderr",
     "output_type": "stream",
     "text": [
      "Epoch 19/50: 100%|██████████| 112/112 [00:51<00:00,  2.19it/s]\n"
     ]
    },
    {
     "name": "stdout",
     "output_type": "stream",
     "text": [
      "Epoch 19: Average Loss: 510.7350\n"
     ]
    },
    {
     "name": "stderr",
     "output_type": "stream",
     "text": [
      "Epoch 20/50: 100%|██████████| 112/112 [00:51<00:00,  2.19it/s]\n"
     ]
    },
    {
     "name": "stdout",
     "output_type": "stream",
     "text": [
      "Epoch 20: Average Loss: 507.4146\n",
      "Checkpoint saved at epoch 20.\n"
     ]
    },
    {
     "name": "stderr",
     "output_type": "stream",
     "text": [
      "Epoch 21/50: 100%|██████████| 112/112 [00:51<00:00,  2.18it/s]\n"
     ]
    },
    {
     "name": "stdout",
     "output_type": "stream",
     "text": [
      "Epoch 21: Average Loss: 506.2390\n"
     ]
    },
    {
     "name": "stderr",
     "output_type": "stream",
     "text": [
      "Epoch 22/50: 100%|██████████| 112/112 [00:51<00:00,  2.19it/s]\n"
     ]
    },
    {
     "name": "stdout",
     "output_type": "stream",
     "text": [
      "Epoch 22: Average Loss: 503.4596\n"
     ]
    },
    {
     "name": "stderr",
     "output_type": "stream",
     "text": [
      "Epoch 23/50: 100%|██████████| 112/112 [00:51<00:00,  2.18it/s]\n"
     ]
    },
    {
     "name": "stdout",
     "output_type": "stream",
     "text": [
      "Epoch 23: Average Loss: 502.2846\n"
     ]
    },
    {
     "name": "stderr",
     "output_type": "stream",
     "text": [
      "Epoch 24/50: 100%|██████████| 112/112 [00:51<00:00,  2.19it/s]\n"
     ]
    },
    {
     "name": "stdout",
     "output_type": "stream",
     "text": [
      "Epoch 24: Average Loss: 499.5700\n"
     ]
    },
    {
     "name": "stderr",
     "output_type": "stream",
     "text": [
      "Epoch 25/50: 100%|██████████| 112/112 [00:51<00:00,  2.19it/s]\n"
     ]
    },
    {
     "name": "stdout",
     "output_type": "stream",
     "text": [
      "Epoch 25: Average Loss: 498.0211\n"
     ]
    },
    {
     "name": "stderr",
     "output_type": "stream",
     "text": [
      "Epoch 26/50: 100%|██████████| 112/112 [00:50<00:00,  2.20it/s]\n"
     ]
    },
    {
     "name": "stdout",
     "output_type": "stream",
     "text": [
      "Epoch 26: Average Loss: 495.8681\n"
     ]
    },
    {
     "name": "stderr",
     "output_type": "stream",
     "text": [
      "Epoch 27/50: 100%|██████████| 112/112 [00:50<00:00,  2.20it/s]\n"
     ]
    },
    {
     "name": "stdout",
     "output_type": "stream",
     "text": [
      "Epoch 27: Average Loss: 495.5442\n"
     ]
    },
    {
     "name": "stderr",
     "output_type": "stream",
     "text": [
      "Epoch 28/50: 100%|██████████| 112/112 [00:50<00:00,  2.20it/s]\n"
     ]
    },
    {
     "name": "stdout",
     "output_type": "stream",
     "text": [
      "Epoch 28: Average Loss: 492.9537\n"
     ]
    },
    {
     "name": "stderr",
     "output_type": "stream",
     "text": [
      "Epoch 29/50: 100%|██████████| 112/112 [00:50<00:00,  2.21it/s]\n"
     ]
    },
    {
     "name": "stdout",
     "output_type": "stream",
     "text": [
      "Epoch 29: Average Loss: 492.0725\n"
     ]
    },
    {
     "name": "stderr",
     "output_type": "stream",
     "text": [
      "Epoch 30/50: 100%|██████████| 112/112 [00:50<00:00,  2.21it/s]\n"
     ]
    },
    {
     "name": "stdout",
     "output_type": "stream",
     "text": [
      "Epoch 30: Average Loss: 488.9550\n",
      "Checkpoint saved at epoch 30.\n"
     ]
    },
    {
     "name": "stderr",
     "output_type": "stream",
     "text": [
      "Epoch 31/50: 100%|██████████| 112/112 [00:51<00:00,  2.17it/s]\n"
     ]
    },
    {
     "name": "stdout",
     "output_type": "stream",
     "text": [
      "Epoch 31: Average Loss: 488.4147\n"
     ]
    },
    {
     "name": "stderr",
     "output_type": "stream",
     "text": [
      "Epoch 32/50: 100%|██████████| 112/112 [00:51<00:00,  2.18it/s]\n"
     ]
    },
    {
     "name": "stdout",
     "output_type": "stream",
     "text": [
      "Epoch 32: Average Loss: 486.5330\n"
     ]
    },
    {
     "name": "stderr",
     "output_type": "stream",
     "text": [
      "Epoch 33/50: 100%|██████████| 112/112 [00:51<00:00,  2.18it/s]\n"
     ]
    },
    {
     "name": "stdout",
     "output_type": "stream",
     "text": [
      "Epoch 33: Average Loss: 484.8863\n"
     ]
    },
    {
     "name": "stderr",
     "output_type": "stream",
     "text": [
      "Epoch 34/50: 100%|██████████| 112/112 [00:50<00:00,  2.20it/s]\n"
     ]
    },
    {
     "name": "stdout",
     "output_type": "stream",
     "text": [
      "Epoch 34: Average Loss: 483.4449\n"
     ]
    },
    {
     "name": "stderr",
     "output_type": "stream",
     "text": [
      "Epoch 35/50: 100%|██████████| 112/112 [00:51<00:00,  2.19it/s]\n"
     ]
    },
    {
     "name": "stdout",
     "output_type": "stream",
     "text": [
      "Epoch 35: Average Loss: 482.1241\n"
     ]
    },
    {
     "name": "stderr",
     "output_type": "stream",
     "text": [
      "Epoch 36/50: 100%|██████████| 112/112 [00:50<00:00,  2.20it/s]\n"
     ]
    },
    {
     "name": "stdout",
     "output_type": "stream",
     "text": [
      "Epoch 36: Average Loss: 481.2366\n"
     ]
    },
    {
     "name": "stderr",
     "output_type": "stream",
     "text": [
      "Epoch 37/50: 100%|██████████| 112/112 [00:50<00:00,  2.20it/s]\n"
     ]
    },
    {
     "name": "stdout",
     "output_type": "stream",
     "text": [
      "Epoch 37: Average Loss: 480.9768\n"
     ]
    },
    {
     "name": "stderr",
     "output_type": "stream",
     "text": [
      "Epoch 38/50: 100%|██████████| 112/112 [00:51<00:00,  2.19it/s]\n"
     ]
    },
    {
     "name": "stdout",
     "output_type": "stream",
     "text": [
      "Epoch 38: Average Loss: 479.6974\n"
     ]
    },
    {
     "name": "stderr",
     "output_type": "stream",
     "text": [
      "Epoch 39/50: 100%|██████████| 112/112 [00:50<00:00,  2.20it/s]\n"
     ]
    },
    {
     "name": "stdout",
     "output_type": "stream",
     "text": [
      "Epoch 39: Average Loss: 478.9439\n"
     ]
    },
    {
     "name": "stderr",
     "output_type": "stream",
     "text": [
      "Epoch 40/50: 100%|██████████| 112/112 [00:50<00:00,  2.22it/s]\n"
     ]
    },
    {
     "name": "stdout",
     "output_type": "stream",
     "text": [
      "Epoch 40: Average Loss: 477.7401\n",
      "Checkpoint saved at epoch 40.\n"
     ]
    },
    {
     "name": "stderr",
     "output_type": "stream",
     "text": [
      "Epoch 41/50: 100%|██████████| 112/112 [00:50<00:00,  2.22it/s]\n"
     ]
    },
    {
     "name": "stdout",
     "output_type": "stream",
     "text": [
      "Epoch 41: Average Loss: 476.3384\n"
     ]
    },
    {
     "name": "stderr",
     "output_type": "stream",
     "text": [
      "Epoch 42/50: 100%|██████████| 112/112 [00:50<00:00,  2.23it/s]\n"
     ]
    },
    {
     "name": "stdout",
     "output_type": "stream",
     "text": [
      "Epoch 42: Average Loss: 474.8152\n"
     ]
    },
    {
     "name": "stderr",
     "output_type": "stream",
     "text": [
      "Epoch 43/50: 100%|██████████| 112/112 [00:50<00:00,  2.22it/s]\n"
     ]
    },
    {
     "name": "stdout",
     "output_type": "stream",
     "text": [
      "Epoch 43: Average Loss: 473.0557\n"
     ]
    },
    {
     "name": "stderr",
     "output_type": "stream",
     "text": [
      "Epoch 44/50: 100%|██████████| 112/112 [00:50<00:00,  2.22it/s]\n"
     ]
    },
    {
     "name": "stdout",
     "output_type": "stream",
     "text": [
      "Epoch 44: Average Loss: 472.6284\n"
     ]
    },
    {
     "name": "stderr",
     "output_type": "stream",
     "text": [
      "Epoch 45/50: 100%|██████████| 112/112 [00:50<00:00,  2.22it/s]\n"
     ]
    },
    {
     "name": "stdout",
     "output_type": "stream",
     "text": [
      "Epoch 45: Average Loss: 471.9524\n"
     ]
    },
    {
     "name": "stderr",
     "output_type": "stream",
     "text": [
      "Epoch 46/50: 100%|██████████| 112/112 [00:50<00:00,  2.22it/s]\n"
     ]
    },
    {
     "name": "stdout",
     "output_type": "stream",
     "text": [
      "Epoch 46: Average Loss: 471.8988\n"
     ]
    },
    {
     "name": "stderr",
     "output_type": "stream",
     "text": [
      "Epoch 47/50: 100%|██████████| 112/112 [00:50<00:00,  2.22it/s]\n"
     ]
    },
    {
     "name": "stdout",
     "output_type": "stream",
     "text": [
      "Epoch 47: Average Loss: 470.1351\n"
     ]
    },
    {
     "name": "stderr",
     "output_type": "stream",
     "text": [
      "Epoch 48/50: 100%|██████████| 112/112 [00:50<00:00,  2.23it/s]\n"
     ]
    },
    {
     "name": "stdout",
     "output_type": "stream",
     "text": [
      "Epoch 48: Average Loss: 469.6441\n"
     ]
    },
    {
     "name": "stderr",
     "output_type": "stream",
     "text": [
      "Epoch 49/50: 100%|██████████| 112/112 [00:50<00:00,  2.23it/s]\n"
     ]
    },
    {
     "name": "stdout",
     "output_type": "stream",
     "text": [
      "Epoch 49: Average Loss: 467.8532\n"
     ]
    },
    {
     "name": "stderr",
     "output_type": "stream",
     "text": [
      "Epoch 50/50: 100%|██████████| 112/112 [00:50<00:00,  2.22it/s]\n"
     ]
    },
    {
     "name": "stdout",
     "output_type": "stream",
     "text": [
      "Epoch 50: Average Loss: 468.0021\n",
      "Checkpoint saved at epoch 50.\n",
      "CVAE Training Complete.\n"
     ]
    },
    {
     "data": {
      "image/png": "[encoded data removed]",
      "text/plain": [
       "<Figure size 800x800 with 1 Axes>"
      ]
     },
     "metadata": {},
     "output_type": "display_data"
    },
    {
     "name": "stdout",
     "output_type": "stream",
     "text": [
      "Generated images saved to generated_images/generated_a_beautiful_beach_at_sunset.png\n"
     ]
    },
    {
     "data": {
      "image/png": "[encoded data removed]",
      "text/plain": [
       "<Figure size 800x800 with 1 Axes>"
      ]
     },
     "metadata": {},
     "output_type": "display_data"
    },
    {
     "name": "stdout",
     "output_type": "stream",
     "text": [
      "Generated images saved to generated_images/generated_a_serene_mountain_landscape.png\n"
     ]
    },
    {
     "data": {
      "image/png": "[encoded data removed]",
      "text/plain": [
       "<Figure size 800x800 with 1 Axes>"
      ]
     },
     "metadata": {},
     "output_type": "display_data"
    },
    {
     "name": "stdout",
     "output_type": "stream",
     "text": [
      "Generated images saved to generated_images/generated_a_dense_forest_with_tall_trees.png\n"
     ]
    },
    {
     "data": {
      "image/png": "[encoded data removed]",
      "text/plain": [
       "<Figure size 800x800 with 1 Axes>"
      ]
     },
     "metadata": {},
     "output_type": "display_data"
    },
    {
     "name": "stdout",
     "output_type": "stream",
     "text": [
      "Generated images saved to generated_images/generated_a_snowy_landscape_with_mountains.png\n"
     ]
    },
    {
     "data": {
      "image/png": "[encoded data removed]",
      "text/plain": [
       "<Figure size 800x800 with 1 Axes>"
      ]
     },
     "metadata": {},
     "output_type": "display_data"
    },
    {
     "name": "stdout",
     "output_type": "stream",
     "text": [
      "Generated images saved to generated_images/generated_a_desert_with_sand_dunes_under_the_stars.png\n",
      "Models saved successfully.\n"
     ]
    }
   ],
   "source": [
    "import json\n",
    "import os\n",
    "import torch\n",
    "import torch.nn as nn\n",
    "import torch.optim as optim\n",
    "from PIL import Image\n",
    "from torch.utils.data import Dataset, DataLoader\n",
    "from torchvision import transforms, utils\n",
    "from transformers import BertTokenizer, BertModel\n",
    "import matplotlib.pyplot as plt\n",
    "from tqdm import tqdm\n",
    "\n",
    "# Ensure reproducibility\n",
    "torch.manual_seed(42)\n",
    "\n",
    "# Check device availability\n",
    "device = torch.device('cuda' if torch.cuda.is_available() else 'cpu')\n",
    "print(f'Using device: {device}')\n",
    "print(f'Number of GPUs available: {torch.cuda.device_count()}')\n",
    "\n",
    "# Path to the JSON file\n",
    "json_path = '/kaggle/input/combined-landscape-captions/combined_landscape_captions.json'\n",
    "\n",
    "# Load JSON data\n",
    "with open(json_path, 'r') as f:\n",
    "    data = json.load(f)\n",
    "\n",
    "# Verify the number of samples\n",
    "print(f\"Total samples: {len(data)}\")\n",
    "\n",
    "# Optional: Inspect a sample\n",
    "sample_image_path, sample_caption = next(iter(data.items()))\n",
    "print(f\"Sample Image Path: {sample_image_path}\")\n",
    "print(f\"Sample Caption: {sample_caption}\")\n",
    "\n",
    "# ============================\n",
    "# Dataset Class\n",
    "# ============================\n",
    "class LandscapeDataset(Dataset):\n",
    "    def __init__(self, data, image_transform=None, tokenizer=None, max_length=128):\n",
    "        \"\"\"\n",
    "        Args:\n",
    "            data (dict): Dictionary with image paths as keys and captions as values.\n",
    "            image_transform (callable, optional): Optional transform to be applied on an image.\n",
    "            tokenizer (transformers.PreTrainedTokenizer, optional): Tokenizer for captions.\n",
    "            max_length (int): Maximum length for tokenized captions.\n",
    "        \"\"\"\n",
    "        self.image_paths = list(data.keys())\n",
    "        self.captions = list(data.values())\n",
    "        self.image_transform = image_transform\n",
    "        self.tokenizer = tokenizer\n",
    "        self.max_length = max_length\n",
    "\n",
    "    def __len__(self):\n",
    "        return len(self.image_paths)\n",
    "\n",
    "    def __getitem__(self, idx):\n",
    "        img_path = self.image_paths[idx]\n",
    "        caption = self.captions[idx]\n",
    "       \n",
    "        # Handle relative paths if necessary\n",
    "        if not os.path.isabs(img_path):\n",
    "            img_path = os.path.join('/kaggle/input/combined-landscape-captions/', img_path)\n",
    "       \n",
    "        # Load image\n",
    "        try:\n",
    "            image = Image.open(img_path).convert('RGB')\n",
    "        except Exception as e:\n",
    "            print(f\"Error loading image {img_path}: {e}\")\n",
    "            # Return a black image in case of error\n",
    "            image = Image.new('RGB', (64, 64), (0, 0, 0))\n",
    "       \n",
    "        if self.image_transform:\n",
    "            image = self.image_transform(image)\n",
    "       \n",
    "        # Tokenize caption\n",
    "        if self.tokenizer:\n",
    "            encoding = self.tokenizer.encode_plus(\n",
    "                caption,\n",
    "                add_special_tokens=True,\n",
    "                max_length=self.max_length,\n",
    "                padding='max_length',\n",
    "                truncation=True,\n",
    "                return_attention_mask=True,\n",
    "                return_tensors='pt',\n",
    "            )\n",
    "            input_ids = encoding['input_ids'].squeeze()              # Shape: (max_length)\n",
    "            attention_mask = encoding['attention_mask'].squeeze()    # Shape: (max_length)\n",
    "        else:\n",
    "            input_ids = torch.tensor(0)\n",
    "            attention_mask = torch.tensor(0)\n",
    "\n",
    "        return {\n",
    "            'image': image,                      # Tensor: (3, 64, 64)\n",
    "            'input_ids': input_ids,              # Tensor: (max_length)\n",
    "            'attention_mask': attention_mask,    # Tensor: (max_length)\n",
    "            'caption': caption\n",
    "        }\n",
    "\n",
    "# ============================\n",
    "# Text Encoder\n",
    "# ============================\n",
    "class TextEncoder(nn.Module):\n",
    "    def __init__(self, embed_dim=256):\n",
    "        super(TextEncoder, self).__init__()\n",
    "        self.bert = BertModel.from_pretrained('bert-base-uncased')\n",
    "        self.linear = nn.Linear(self.bert.config.hidden_size, embed_dim)\n",
    "   \n",
    "    def forward(self, input_ids, attention_mask):\n",
    "        \"\"\"\n",
    "        Args:\n",
    "            input_ids (Tensor): Tensor of token IDs with shape (batch_size, max_length)\n",
    "            attention_mask (Tensor): Tensor of attention masks with shape (batch_size, max_length)\n",
    "        Returns:\n",
    "            Tensor: Text embeddings with shape (batch_size, embed_dim)\n",
    "        \"\"\"\n",
    "        outputs = self.bert(input_ids=input_ids, attention_mask=attention_mask)\n",
    "        cls_embedding = outputs.last_hidden_state[:, 0, :]  # [CLS] token\n",
    "        embedding = self.linear(cls_embedding)\n",
    "        return embedding  # (batch_size, embed_dim)\n",
    "\n",
    "# ============================\n",
    "# Conditional VAE Model\n",
    "# ============================\n",
    "class ConditionalVAE(nn.Module):\n",
    "    def __init__(self, image_channels=3, latent_dim=256, embed_dim=256):\n",
    "        super(ConditionalVAE, self).__init__()\n",
    "        self.latent_dim = latent_dim\n",
    "        self.embed_dim = embed_dim\n",
    "\n",
    "        # Encoder\n",
    "        self.encoder_conv = nn.Sequential(\n",
    "            # Input: [B, 3, 64, 64]\n",
    "            nn.Conv2d(image_channels, 32, kernel_size=4, stride=2, padding=1),   # [B, 32, 32, 32]\n",
    "            nn.ReLU(inplace=True),\n",
    "            nn.Conv2d(32, 64, kernel_size=4, stride=2, padding=1),              # [B, 64, 16, 16]\n",
    "            nn.BatchNorm2d(64),\n",
    "            nn.ReLU(inplace=True),\n",
    "            nn.Conv2d(64, 128, kernel_size=4, stride=2, padding=1),             # [B, 128, 8, 8]\n",
    "            nn.BatchNorm2d(128),\n",
    "            nn.ReLU(inplace=True),\n",
    "            nn.Flatten(),                                                          # [B, 128*8*8 = 8192]\n",
    "        )\n",
    "\n",
    "        # Incorporate text embeddings\n",
    "        self.fc_mu = nn.Linear(128 * 8 * 8 + embed_dim, latent_dim)\n",
    "        self.fc_logvar = nn.Linear(128 * 8 * 8 + embed_dim, latent_dim)\n",
    "\n",
    "        # Decoder\n",
    "        self.decoder_fc = nn.Linear(latent_dim + embed_dim, 128 * 8 * 8)\n",
    "        self.decoder_deconv = nn.Sequential(\n",
    "            nn.Unflatten(1, (128, 8, 8)),                                       # [B, 128, 8, 8]\n",
    "            nn.ConvTranspose2d(128, 64, kernel_size=4, stride=2, padding=1),   # [B, 64, 16, 16]\n",
    "            nn.BatchNorm2d(64),\n",
    "            nn.ReLU(inplace=True),\n",
    "            nn.ConvTranspose2d(64, 32, kernel_size=4, stride=2, padding=1),    # [B, 32, 32, 32]\n",
    "            nn.BatchNorm2d(32),\n",
    "            nn.ReLU(inplace=True),\n",
    "            nn.ConvTranspose2d(32, image_channels, kernel_size=4, stride=2, padding=1),  # [B, 3, 64, 64]\n",
    "            nn.Tanh()  # Output in range [-1, 1]\n",
    "        )\n",
    "\n",
    "    def encode(self, x, text_embedding):\n",
    "        x = self.encoder_conv(x)  # [B, 8192]\n",
    "        x = torch.cat([x, text_embedding], dim=1)  # [B, 8192 + embed_dim]\n",
    "        mu = self.fc_mu(x)            # [B, latent_dim]\n",
    "        logvar = self.fc_logvar(x)    # [B, latent_dim]\n",
    "        return mu, logvar\n",
    "\n",
    "    def reparameterize(self, mu, logvar):\n",
    "        \"\"\"\n",
    "        Reparameterization trick to sample from N(mu, var) from N(0,1).\n",
    "        \"\"\"\n",
    "        std = torch.exp(0.5 * logvar)\n",
    "        eps = torch.randn_like(std)  # Sample epsilon from standard normal\n",
    "        return mu + eps * std\n",
    "\n",
    "    def decode(self, z, text_embedding):\n",
    "        z = torch.cat([z, text_embedding], dim=1)  # [B, latent_dim + embed_dim]\n",
    "        x = self.decoder_fc(z)                    # [B, 8192]\n",
    "        x = self.decoder_deconv(x)                # [B, 3, 64, 64]\n",
    "        return x\n",
    "\n",
    "    def forward(self, x, text_embedding):\n",
    "        mu, logvar = self.encode(x, text_embedding)\n",
    "        z = self.reparameterize(mu, logvar)\n",
    "        recon_x = self.decode(z, text_embedding)\n",
    "        return recon_x, mu, logvar\n",
    "\n",
    "# ============================\n",
    "# Loss Function\n",
    "# ============================\n",
    "def vae_loss(recon_x, x, mu, logvar):\n",
    "    # Reconstruction loss\n",
    "    recon_loss = nn.functional.mse_loss(recon_x, x, reduction='sum')\n",
    "\n",
    "    # KL Divergence\n",
    "    kl_loss = -0.5 * torch.sum(1 + logvar - mu.pow(2) - logvar.exp())\n",
    "\n",
    "    return recon_loss + kl_loss\n",
    "\n",
    "# ============================\n",
    "# Training Function\n",
    "# ============================\n",
    "def train_cvae(train_loader, vae, text_encoder, optimizer, scaler, device, epochs=50):\n",
    "    vae.train()\n",
    "    text_encoder.train()\n",
    "\n",
    "    for epoch in range(1, epochs + 1):\n",
    "        epoch_loss = 0\n",
    "        for batch in tqdm(train_loader, desc=f\"Epoch {epoch}/{epochs}\"):\n",
    "            images = batch['image'].to(device, non_blocking=True)\n",
    "            input_ids = batch['input_ids'].to(device, non_blocking=True)\n",
    "            attention_mask = batch['attention_mask'].to(device, non_blocking=True)\n",
    "\n",
    "            optimizer.zero_grad()\n",
    "\n",
    "            with torch.amp.autocast(device_type='cuda'):\n",
    "                # Get text embeddings\n",
    "                text_embeddings = text_encoder(input_ids, attention_mask)  # [B, embed_dim]\n",
    "\n",
    "                # Forward pass through CVAE\n",
    "                recon_images, mu, logvar = vae(images, text_embeddings)\n",
    "\n",
    "                # Compute loss\n",
    "                loss = vae_loss(recon_images, images, mu, logvar)\n",
    "\n",
    "            # Backpropagation with mixed precision\n",
    "            scaler.scale(loss).backward()\n",
    "            scaler.unscale_(optimizer)\n",
    "            nn.utils.clip_grad_norm_(list(vae.parameters()) + list(text_encoder.parameters()), 5.0)\n",
    "            scaler.step(optimizer)\n",
    "            scaler.update()\n",
    "\n",
    "            epoch_loss += loss.item()\n",
    "\n",
    "        avg_loss = epoch_loss / len(train_loader.dataset)\n",
    "        print(f\"Epoch {epoch}: Average Loss: {avg_loss:.4f}\")\n",
    "\n",
    "        # Save model checkpoints periodically\n",
    "        if epoch % 10 == 0 or epoch == epochs:\n",
    "            checkpoint_path = f'cvae_epoch_{epoch}.pth'\n",
    "            torch.save({\n",
    "                'epoch': epoch,\n",
    "                'vae_state_dict': vae.state_dict(),\n",
    "                'text_encoder_state_dict': text_encoder.state_dict(),\n",
    "                'optimizer_state_dict': optimizer.state_dict(),\n",
    "            }, checkpoint_path)\n",
    "            print(f\"Checkpoint saved at epoch {epoch}.\")\n",
    "\n",
    "        # Clear cache to free memory\n",
    "        torch.cuda.empty_cache()\n",
    "\n",
    "    print(\"CVAE Training Complete.\")\n",
    "\n",
    "# ============================\n",
    "# Image Generation Function\n",
    "# ============================\n",
    "def generate_cvae_images(vae, text_encoder, tokenizer, text_list, device, latent_dim=256, num_images=4, save_path=None):\n",
    "    \"\"\"\n",
    "    Generates and displays images based on a list of textual descriptions.\n",
    "    \"\"\"\n",
    "    vae.eval()\n",
    "    text_encoder.eval()\n",
    "\n",
    "    # Access the underlying modules if wrapped with DataParallel\n",
    "    vae_module = vae.module if isinstance(vae, nn.DataParallel) else vae\n",
    "    text_encoder_module = text_encoder.module if isinstance(text_encoder, nn.DataParallel) else text_encoder\n",
    "\n",
    "    with torch.no_grad():\n",
    "        for text in text_list:\n",
    "            # Tokenize text\n",
    "            encoding = tokenizer.encode_plus(\n",
    "                text,\n",
    "                add_special_tokens=True,\n",
    "                max_length=128,\n",
    "                padding='max_length',\n",
    "                truncation=True,\n",
    "                return_attention_mask=True,\n",
    "                return_tensors='pt',\n",
    "            )\n",
    "            input_ids = encoding['input_ids'].to(device)\n",
    "            attention_mask = encoding['attention_mask'].to(device)\n",
    "\n",
    "            # Get text embedding\n",
    "            text_embedding = text_encoder_module(input_ids, attention_mask)  # [1, embed_dim]\n",
    "\n",
    "            # Sample latent vectors\n",
    "            z = torch.randn(num_images, latent_dim).to(device)\n",
    "\n",
    "            # Decode to generate images\n",
    "            gen_images = vae_module.decode(z, text_embedding.repeat(num_images, 1))  # [num_images, 3, 64, 64]\n",
    "\n",
    "            # Rescale images from [-1, 1] to [0, 1]\n",
    "            gen_images = torch.clamp(gen_images, -1, 1)\n",
    "            gen_images = (gen_images + 1) / 2\n",
    "\n",
    "            # Create a grid of images\n",
    "            grid = utils.make_grid(gen_images, nrow=int(num_images**0.5))\n",
    "            grid = grid.permute(1, 2, 0).cpu().numpy()\n",
    "\n",
    "            # Display the grid\n",
    "            plt.figure(figsize=(8, 8))\n",
    "            plt.imshow(grid)\n",
    "            plt.title(text)\n",
    "            plt.axis('off')\n",
    "            plt.show()\n",
    "\n",
    "            # Save images if save_path is provided\n",
    "            if save_path:\n",
    "                os.makedirs(save_path, exist_ok=True)\n",
    "                utils.save_image(gen_images, os.path.join(save_path, f'generated_{text.replace(\" \", \"_\")}.png'), nrow=int(num_images**0.5))\n",
    "                print(f'Generated images saved to {save_path}/generated_{text.replace(\" \", \"_\")}.png')\n",
    "# ============================\n",
    "# Main Script\n",
    "# ============================\n",
    "if __name__ == \"__main__\":\n",
    "    # ============================\n",
    "    # Image Transformations\n",
    "    # ============================\n",
    "    image_transform = transforms.Compose([\n",
    "        transforms.Resize((64, 64)),  # Updated size to 64x64\n",
    "        transforms.ToTensor(),\n",
    "        transforms.Normalize(mean=[0.5, 0.5, 0.5],  # Normalize to [-1, 1]\n",
    "                             std=[0.5, 0.5, 0.5]),\n",
    "    ])\n",
    "\n",
    "    # Initialize tokenizer\n",
    "    tokenizer = BertTokenizer.from_pretrained('bert-base-uncased')\n",
    "\n",
    "    # Create the dataset\n",
    "    dataset = LandscapeDataset(data, image_transform=image_transform, tokenizer=tokenizer)\n",
    "\n",
    "    # Create DataLoader for the complete dataset (no validation split)\n",
    "    batch_size = 128  # Increased batch size for smaller images\n",
    "    train_loader = DataLoader(dataset, batch_size=batch_size, shuffle=True, num_workers=4, pin_memory=True)\n",
    "\n",
    "    # ============================\n",
    "    # Initialize Models\n",
    "    # ============================\n",
    "    embed_dim = 256\n",
    "    latent_dim = 256\n",
    "    image_channels = 3\n",
    "\n",
    "    text_encoder = TextEncoder(embed_dim=embed_dim).to(device)\n",
    "    cvae = ConditionalVAE(image_channels=image_channels, latent_dim=latent_dim, embed_dim=embed_dim).to(device)\n",
    "\n",
    "    # Utilize multiple GPUs if available\n",
    "    if torch.cuda.device_count() > 1:\n",
    "        print(f\"Using {torch.cuda.device_count()} GPUs for Data Parallelism.\")\n",
    "        text_encoder = nn.DataParallel(text_encoder)\n",
    "        cvae = nn.DataParallel(cvae)\n",
    "\n",
    "    # ============================\n",
    "    # Optimizer and Scheduler\n",
    "    # ============================\n",
    "    learning_rate = 1e-3\n",
    "    optimizer = optim.Adam(list(cvae.parameters()) + list(text_encoder.parameters()), lr=learning_rate, weight_decay=1e-5)\n",
    "\n",
    "    # ============================\n",
    "    # Mixed Precision Scaler\n",
    "    # ============================\n",
    "    scaler = torch.amp.GradScaler()\n",
    "\n",
    "    # ============================\n",
    "    # Train CVAE\n",
    "    # ============================\n",
    "    epochs = 50  # Adjust based on your experimentation needs\n",
    "    train_cvae(train_loader, cvae, text_encoder, optimizer, scaler, device, epochs=epochs)\n",
    "\n",
    "    # ============================\n",
    "    # Generate Images Using Trained CVAE\n",
    "    # ============================\n",
    "    sample_texts = [\n",
    "        \"a beautiful beach at sunset\",\n",
    "        \"a serene mountain landscape\",\n",
    "        \"a dense forest with tall trees\",\n",
    "        \"a snowy landscape with mountains\",\n",
    "        \"a desert with sand dunes under the stars\"\n",
    "    ]\n",
    "\n",
    "    generate_cvae_images(cvae, text_encoder, tokenizer, sample_texts, device, latent_dim=latent_dim, num_images=2, save_path='generated_images')\n",
    "\n",
    "    # ============================\n",
    "    # Save Models\n",
    "    # ============================\n",
    "    os.makedirs('models', exist_ok=True)\n",
    "    torch.save(cvae.state_dict(), 'models/cvae.pth')\n",
    "    torch.save(text_encoder.state_dict(), 'models/text_encoder.pth')\n",
    "    print(\"Models saved successfully.\")\n"
   ]
  },
  {
   "cell_type": "code",
   "execution_count": null,
   "metadata": {
    "trusted": true
   },
   "outputs": [],
   "source": []
  }
 ],
 "metadata": {
  "kaggle": {
   "accelerator": "nvidiaTeslaT4",
   "dataSources": [
    {
     "datasetId": 298806,
     "sourceId": 1217826,
     "sourceType": "datasetVersion"
    },
    {
     "datasetId": 2707450,
     "sourceId": 4669588,
     "sourceType": "datasetVersion"
    },
    {
     "datasetId": 6221013,
     "sourceId": 10089158,
     "sourceType": "datasetVersion"
    }
   ],
   "dockerImageVersionId": 30787,
   "isGpuEnabled": true,
   "isInternetEnabled": true,
   "language": "python",
   "sourceType": "notebook"
  },
  "kernelspec": {
   "display_name": "Python 3",
   "language": "python",
   "name": "python3"
  },
  "language_info": {
   "codemirror_mode": {
    "name": "ipython",
    "version": 3
   },
   "file_extension": ".py",
   "mimetype": "text/x-python",
   "name": "python",
   "nbconvert_exporter": "python",
   "pygments_lexer": "ipython3",
   "version": "3.12.6"
  }
 },
 "nbformat": 4,
 "nbformat_minor": 4
}
